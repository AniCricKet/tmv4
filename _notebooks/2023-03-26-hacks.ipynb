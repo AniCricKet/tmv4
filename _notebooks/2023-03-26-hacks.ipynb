{
 "cells": [
  {
   "attachments": {},
   "cell_type": "markdown",
   "metadata": {},
   "source": [
    "# Hacks\n",
    "\n",
    "- title: Hacks\n",
    "- toc: true\n",
    "- categories: [jupyter]\n",
    "- comments: true\n",
    "- badges: true"
   ]
  },
  {
   "attachments": {},
   "cell_type": "markdown",
   "metadata": {},
   "source": [
    "Students must create their own repository and title it the basic app you are going to create it. Of course, we are purely grading based off design and how you implemented SASS. We are NOT grading based off of how well your app or game functions. Remember, using what we taught you in the lesson is likely to get you more points so don't forget that. Any customizations past the elements we discussed is likely to contribute to more than a 2.7 to the discretion of the grader. "
   ]
  },
  {
   "attachments": {},
   "cell_type": "markdown",
   "metadata": {},
   "source": [
    "# Steps to creating your own repository and starting your hacks: \n",
    "\n",
    "1. Go to github.com and click the green \"new\" button\n",
    "\n",
    "2. Name your repository and publish it. \n",
    "\n",
    "3. CD into your new repo and begin coding. You want to also make sure you have the \"Live Sass Complier\" extension installed. As stated earlier, this is because the browser can not read SASS, but only CSS, and this extension converts the SASS into CSS. \n",
    "\n",
    "4. Some files you might want to consider adding: an ```index.html``` file and a ```___.scss``` file to get you started. \n",
    "\n",
    "5. Once you are done, create an issue with screenshots of your local server running your app, and a link to your code in your repo. \n",
    "\n",
    "Let us know if you need help!"
   ]
  }
 ],
 "metadata": {
  "kernelspec": {
   "display_name": "Python 3",
   "language": "python",
   "name": "python3"
  },
  "language_info": {
   "name": "python",
   "version": "3.8.10"
  },
  "orig_nbformat": 4
 },
 "nbformat": 4,
 "nbformat_minor": 2
}
