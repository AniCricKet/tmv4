{
 "cells": [
  {
   "attachments": {},
   "cell_type": "markdown",
   "metadata": {},
   "source": [
    "# Hacks\n",
    "\n",
    "- title: Hacks\n",
    "- toc: true\n",
    "- categories: [jupyter]\n",
    "- comments: true\n",
    "- badges: true"
   ]
  },
  {
   "attachments": {},
   "cell_type": "markdown",
   "metadata": {},
   "source": [
    "Students must create their own repository and title it the basic app you are going to create it. Of course, we are purely grading based off design and how you implemented SASS. We are NOT grading based off of how well your app or game functions. Remember, using what we taught you in the lesson is likely to get you more points so don't forget that. Any customizations past the elements we discussed is likely to contribute to more than a 2.7 to the discretion of the grader. "
   ]
  }
 ],
 "metadata": {
  "kernelspec": {
   "display_name": "Python 3",
   "language": "python",
   "name": "python3"
  },
  "language_info": {
   "name": "python",
   "version": "3.8.10"
  },
  "orig_nbformat": 4
 },
 "nbformat": 4,
 "nbformat_minor": 2
}
