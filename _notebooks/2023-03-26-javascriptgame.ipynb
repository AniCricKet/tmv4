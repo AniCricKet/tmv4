{
 "cells": [
  {
   "attachments": {},
   "cell_type": "markdown",
   "metadata": {},
   "source": [
    "# Guide to creating a JavaScript Game/Application: Ryan, Jaden, and Nathan\n",
    "\n",
    "- title: Guide to creating a JavaScript Game/Application\n",
    "- toc: true\n",
    "- categories: [jupyter]\n",
    "- comments: true\n",
    "- badges: true"
   ]
  },
  {
   "attachments": {},
   "cell_type": "markdown",
   "metadata": {},
   "source": [
    "# How can I create my own JavaScript game or app?\n",
    "\n",
    "There are a few basic steps to successfully create a JavaScript game or application...\n",
    "\n",
    "1. Seperate frontend and backend\n",
    "2. Create a base layout/theme for frontend, using html/css/sass\n",
    "3. Code backend, test/debug using frontend or console/terminal\n",
    "4. Enchance game using fancy frontend and additional features"
   ]
  },
  {
   "attachments": {},
   "cell_type": "markdown",
   "metadata": {},
   "source": [
    "# Here is an example of a Minesweeper game created by Jaden\n",
    "https://raisinbran25.github.io/tonkatonka/minesweeper"
   ]
  }
 ],
 "metadata": {
  "kernelspec": {
   "display_name": "Python 3",
   "language": "python",
   "name": "python3"
  },
  "language_info": {
   "name": "python",
   "version": "3.8.10"
  },
  "orig_nbformat": 4
 },
 "nbformat": 4,
 "nbformat_minor": 2
}
