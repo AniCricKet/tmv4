{
 "cells": [
  {
   "attachments": {},
   "cell_type": "markdown",
   "metadata": {},
   "source": [
    "# How to Create Your Own JavaScript Game/Application: Ryan, Jaden\n",
    "\n",
    "- title: Guide to creating a JavaScript Game/Application\n",
    "- toc: true\n",
    "- categories: [jupyter]\n",
    "- comments: true\n",
    "- badges: true"
   ]
  },
  {
   "attachments": {},
   "cell_type": "markdown",
   "metadata": {},
   "source": [
    "There are a few basic steps to successfully create a JavaScript game or application...\n",
    "\n",
    "1. Plan your game: Before you start coding, take some time to plan out your game. Decide on the basic rules, objectives, and mechanics of the game. Determine what elements you will need to create, such as game boards, characters, and obstacles.\n",
    "2. Start coding: Begin by creating the basic game elements, such as the game board and the player character. Use JavaScript to define the game logic and to add interactivity.\n",
    "3. Test and debug: Test your game frequently to ensure that it works correctly.\n",
    "4. Enchance game using fancy frontend and additional features"
   ]
  },
  {
   "cell_type": "markdown",
   "metadata": {},
   "source": [
    "## Example of how to Create a game"
   ]
  },
  {
   "cell_type": "code",
   "execution_count": null,
   "metadata": {},
   "outputs": [],
   "source": [
    "<html>\n",
    "<head>\n",
    "  <title>Guess the Number</title>\n",
    "</head>\n",
    "<body>\n",
    "  <h1>Guess the Number</h1>\n",
    "  <p>Try to guess the number between 1 and 100.</p>\n",
    "  <input type=\"text\" id=\"guess\" placeholder=\"Enter your guess\">\n",
    "  <button onclick=\"checkGuess()\">Submit</button>\n",
    "  <p id=\"result\"></p>\n",
    "\n",
    "  <script>\n",
    "    // Generate a random number between 1 and 100\n",
    "    const randomNumber = Math.floor(Math.random() * 100) + 1;\n",
    "    let attempts = 0;\n",
    "\n",
    "    function checkGuess() {\n",
    "      // Get the user's guess\n",
    "      const guess = parseInt(document.getElementById(\"guess\").value);\n",
    "\n",
    "      // Increase the number of attempts\n",
    "      attempts++;\n",
    "\n",
    "      // Check if the guess is correct\n",
    "      if (guess === randomNumber) {\n",
    "        document.getElementById(\"result\").innerHTML = `Congratulations! You guessed the number in ${attempts} attempts.`;\n",
    "      } else if (guess < randomNumber) {\n",
    "        document.getElementById(\"result\").innerHTML = \"Too low. Guess again.\";\n",
    "      } else {\n",
    "        document.getElementById(\"result\").innerHTML = \"Too high. Guess again.\";\n",
    "      }\n",
    "    }\n",
    "  </script>\n",
    "</body>\n",
    "</html>\n"
   ]
  },
  {
   "cell_type": "markdown",
   "metadata": {},
   "source": [
    "This code is a simple HTML and JavaScript program that creates a number guessing game. Here is how it works:\n",
    "\n",
    "1. HTML: The HTML code defines a title, a heading, a piece of text describing the game, an input field for the user to enter their guess, a submit button, and a another piece of text where the result of the guess will be displayed.\n",
    "\n",
    "2. JavaScript: The JavaScript code starts by generating a random number between 1 and 100 using the Math.random() method. It multiplies the result of Math.random() by 100 to get a number between 0 and 99, then adds 1 to the result to get a number between 1 and 100. This random number is stored in the randomNumber variable.\n",
    "\n",
    "3. JavaScript: The checkGuess() function is called when the user clicks the \"Submit\" button. It gets the value of the guess entered by the user using document.getElementById(\"guess\").value and converts it to an integer using parseInt(). The number of attempts is also increased by 1.\n",
    "\n",
    "4. JavaScript: The function then checks if the guess is correct by comparing it to the randomNumber variable. If the guess is correct, a message is displayed in the result paragraph using the innerHTML property. If the guess is too low, a message is displayed asking the user to guess again. If the guess is too high, another message is displayed asking the user to guess again.\n",
    "\n",
    "\n",
    "The program will continue to prompt the user to guess until they get the correct number. The number of attempts will be displayed when the user correctly guesses the number."
   ]
  },
  {
   "attachments": {},
   "cell_type": "markdown",
   "metadata": {},
   "source": [
    "## Hacks Part 3"
   ]
  }
 ],
 "metadata": {
  "kernelspec": {
   "display_name": "Python 3.10.9 64-bit",
   "language": "python",
   "name": "python3"
  },
  "language_info": {
   "name": "python",
   "version": "3.10.9"
  },
  "orig_nbformat": 4,
  "vscode": {
   "interpreter": {
    "hash": "aee8b7b246df8f9039afb4144a1f6fd8d2ca17a180786b69acc140d282b71a49"
   }
  }
 },
 "nbformat": 4,
 "nbformat_minor": 2
}
