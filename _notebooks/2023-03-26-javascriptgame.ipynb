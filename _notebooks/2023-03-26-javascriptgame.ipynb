{
 "cells": [
  {
   "attachments": {},
   "cell_type": "markdown",
   "metadata": {},
   "source": [
    "# Guide to creating a JavaScript Game/Application: Ryan, Jaden, and Nathan\n",
    "- toc: true\n",
    "- comments: true\n",
    "- badges: true"
   ]
  },
  {
   "attachments": {},
   "cell_type": "markdown",
   "metadata": {},
   "source": [
    "# How can I create my own JavaScript game or app?\n",
    "\n",
    "There are a few basic steps to successfully create a JavaScript game or application...\n",
    "\n",
    "1. "
   ]
  },
  {
   "attachments": {},
   "cell_type": "markdown",
   "metadata": {},
   "source": [
    "# Here is an example of a Minesweeper game created by Jaden"
   ]
  }
 ],
 "metadata": {
  "language_info": {
   "name": "python"
  },
  "orig_nbformat": 4
 },
 "nbformat": 4,
 "nbformat_minor": 2
}
