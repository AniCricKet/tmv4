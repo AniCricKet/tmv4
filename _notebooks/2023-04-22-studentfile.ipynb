{
 "cells": [
  {
   "attachments": {},
   "cell_type": "markdown",
   "metadata": {},
   "source": [
    "# WGET this file and complete fully and thoroughly in order to be graded"
   ]
  },
  {
   "attachments": {},
   "cell_type": "markdown",
   "metadata": {},
   "source": [
    "### What are 5 Basic UI Elements?:\n",
    "\n",
    "1. \n",
    "2.\n",
    "3.\n",
    "4. \n",
    "5. \n",
    "\n",
    "### In your own words, explain what SASS does:\n",
    "\n",
    "### What are some benefits to SASS?: "
   ]
  },
  {
   "attachments": {},
   "cell_type": "markdown",
   "metadata": {},
   "source": [
    "## Hacks Part 1\n",
    "1. Add your own element to your own repository to make it unique (0.9)\n",
    "\n",
    "## Hacks Part 2\n",
    "1. Add the style change button to your own github page (0.9)\n",
    "    - Change the button to your own styles \n",
    "    - See if you can let make it change to multiple different styles (we understand that it is hard to create multiple distinct styles so you are only required to make it clear you have at least three different styles at can be changed)"
   ]
  },
  {
   "attachments": {},
   "cell_type": "markdown",
   "metadata": {},
   "source": [
    "## Hacks Part 3\n",
    "Add sass to the game provided(0.9) or create your own javascript game and add sass to it(0.9+)\n",
    "\n",
    "best game gets seed points"
   ]
  }
 ],
 "metadata": {
  "language_info": {
   "name": "python"
  },
  "orig_nbformat": 4
 },
 "nbformat": 4,
 "nbformat_minor": 2
}
