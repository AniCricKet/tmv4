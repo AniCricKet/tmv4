{
 "cells": [
  {
   "attachments": {},
   "cell_type": "markdown",
   "metadata": {},
   "source": [
    "# WGET this file and complete fully and thoroughly in order to be graded\n",
    "- toc: true\n",
    "- comments: true\n",
    "- badges: false"
   ]
  },
  {
   "attachments": {},
   "cell_type": "markdown",
   "metadata": {},
   "source": [
    "### What are 5 Basic UI Elements?:\n",
    "\n",
    "1. \n",
    "2.\n",
    "3.\n",
    "4. \n",
    "5. \n",
    "\n",
    "### In your own words, explain what SASS does:\n",
    "- \n",
    "\n",
    "### What are some benefits to SASS?: \n",
    "- \n",
    "\n",
    "### Describe/Explain one of the more \"advanced\" SASS properties below in detail:\n",
    "- \n"
   ]
  },
  {
   "attachments": {},
   "cell_type": "markdown",
   "metadata": {},
   "source": [
    "# Hacks - Insert any screenshots, code segments, etc. that you need to\n",
    "\n",
    "## Hacks Part 1\n",
    "1. Add your own element to your own repository to make it unique (0.9)\n",
    "\n",
    "## Hacks Part 2\n",
    "1. Add the style change button to your own github page (0.9)\n",
    "    - Change the button to your own styles \n",
    "    - See if you can let make it change to multiple different styles (we understand that it is hard to create multiple distinct styles so you are only required to make it clear you have at least three different styles at can be changed)\n",
    "2. Extra: Try and incorporate something you learned in the lesson into your CPT Project (0.1)\n",
    "\n",
    "## Hacks Part 3\n",
    "1. Add SASS to Number Guesser Game provided (0.9) or create your own Javascript game/application and add SASS to it (0.9+)\n",
    "2. We will collectively decide on the \"best\" game/app and award potential seed. "
   ]
  }
 ],
 "metadata": {
  "language_info": {
   "name": "python"
  },
  "orig_nbformat": 4
 },
 "nbformat": 4,
 "nbformat_minor": 2
}
