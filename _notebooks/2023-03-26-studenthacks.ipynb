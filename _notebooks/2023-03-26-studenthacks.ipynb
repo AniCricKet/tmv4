{
 "cells": [
  {
   "attachments": {},
   "cell_type": "markdown",
   "metadata": {},
   "source": [
    "# Hacks: Everyone\n",
    "\n",
    "- title: Hacks\n",
    "- toc: true\n",
    "- categories: [jupyter]\n",
    "- comments: true\n",
    "- badges: true"
   ]
  },
  {
   "attachments": {},
   "cell_type": "markdown",
   "metadata": {},
   "source": [
    "Students will be given a game and they must \"SASS up\"/customize the game. Students are required to customize 3 elements of the game (color schemes, pop ups, animations, buttons, sizing, etc.). Any customizations past 3 elements will contribute to their score after 2.7 to the discretion of the grader. Seed will be awarded to student with the best styling components using what they've learned from the presentation."
   ]
  },
  {
   "attachments": {},
   "cell_type": "markdown",
   "metadata": {},
   "source": [
    "Application to hacks\n",
    "-students will now implement what they have learned to style their own blog\n",
    "-students will implement structures into their own UI and showcase their expertise in frontend code"
   ]
  },
  {
   "cell_type": "code",
   "execution_count": null,
   "metadata": {
    "vscode": {
     "languageId": "html"
    }
   },
   "outputs": [],
   "source": [
    "<head>\n",
    "    <title>Tic Tac Toe</title>\n",
    "    <style>\n",
    "      .container {\n",
    "        display: flex;\n",
    "        justify-content: center;\n",
    "        align-items: center;\n",
    "        height: 100vh;\n",
    "      }\n",
    "      .board {\n",
    "        display: flex;\n",
    "        flex-wrap: wrap;\n",
    "        width: 300px;\n",
    "        height: 300px;\n",
    "        border: 1px solid black;\n",
    "      }\n",
    "      .cell {\n",
    "        display: flex;\n",
    "        justify-content: center;\n",
    "        align-items: center;\n",
    "        width: 100px;\n",
    "        height: 100px;\n",
    "        font-size: 48px;\n",
    "        font-weight: bold;\n",
    "        cursor: pointer;\n",
    "      }\n",
    "    </style>\n",
    "  </head>\n",
    "  <body>\n",
    "    <div class=\"container\">\n",
    "      <div class=\"board\" id=\"board\">\n",
    "        <div class=\"cell\" onclick=\"makeMove(0)\"></div>\n",
    "        <div class=\"cell\" onclick=\"makeMove(1)\"></div>\n",
    "        <div class=\"cell\" onclick=\"makeMove(2)\"></div>\n",
    "        <div class=\"cell\" onclick=\"makeMove(3)\"></div>\n",
    "        <div class=\"cell\" onclick=\"makeMove(4)\"></div>\n",
    "        <div class=\"cell\" onclick=\"makeMove(5)\"></div>\n",
    "        <div class=\"cell\" onclick=\"makeMove(6)\"></div>\n",
    "        <div class=\"cell\" onclick=\"makeMove(7)\"></div>\n",
    "        <div class=\"cell\" onclick=\"makeMove(8)\"></div>\n",
    "      </div>\n",
    "      <button onclick=\"resetGame()\">Restart</button>\n",
    "    </div>\n",
    "    <script>\n",
    "      let currentPlayer = \"X\";\n",
    "      const board = [\"\", \"\", \"\", \"\", \"\", \"\", \"\", \"\", \"\"];\n",
    "  \n",
    "      function makeMove(index) {\n",
    "        if (board[index] === \"\") {\n",
    "          board[index] = currentPlayer;\n",
    "          document.getElementById(\"board\").children[index].innerText = currentPlayer;\n",
    "          document.getElementById(\"board\").children[index].style.cursor = \"default\";\n",
    "          checkWinner();\n",
    "          currentPlayer = (currentPlayer === \"X\") ? \"O\" : \"X\";\n",
    "        }\n",
    "      }\n",
    "  \n",
    "      function checkWinner() {\n",
    "        const winningCombinations = [\n",
    "          [0, 1, 2], [3, 4, 5], [6, 7, 8], // rows\n",
    "          [0, 3, 6], [1, 4, 7], [2, 5, 8], // columns\n",
    "          [0, 4, 8], [2, 4, 6] // diagonals\n",
    "        ];\n",
    "  \n",
    "        for (let combination of winningCombinations) {\n",
    "          const [a, b, c] = combination;\n",
    "          if (board[a] !== \"\" && board[a] === board[b] && board[a] === board[c]) {\n",
    "            alert(`Player ${board[a]} wins!`);\n",
    "            resetGame();\n",
    "            return;\n",
    "          }\n",
    "        }\n",
    "  \n",
    "        if (board.every(cell => cell !== \"\")) {\n",
    "          alert(\"It's a draw!\");\n",
    "          resetGame();\n",
    "          return;\n",
    "        }\n",
    "      }\n",
    "  \n",
    "      function resetGame() {\n",
    "        currentPlayer = \"X\";\n",
    "        board.fill(\"\");\n",
    "        const cells = document.getElementsByClassName(\"cell\");\n",
    "        for (let cell of cells) {\n",
    "          cell.innerText = \"\";\n",
    "          cell.style.cursor = \"pointer\";\n",
    "        }\n",
    "      }\n",
    "    </script>\n",
    "  </body>\n",
    "  </html>\n",
    "  "
   ]
  }
 ],
 "metadata": {
  "kernelspec": {
   "display_name": "Python 3",
   "language": "python",
   "name": "python3"
  },
  "language_info": {
   "name": "python",
   "version": "3.8.10"
  },
  "orig_nbformat": 4
 },
 "nbformat": 4,
 "nbformat_minor": 2
}
