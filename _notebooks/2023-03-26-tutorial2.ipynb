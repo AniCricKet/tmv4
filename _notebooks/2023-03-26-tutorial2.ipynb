{
 "cells": [
  {
   "attachments": {},
   "cell_type": "markdown",
   "metadata": {},
   "source": [
    "# Tutorial To SASS Part 2: Max W, Aniket, Evan\n",
    "\n",
    "- title: Tutorial To SASS Part 2\n",
    "- toc: true\n",
    "- categories: [jupyter]\n",
    "- comments: true\n",
    "- badges: true"
   ]
  },
  {
   "attachments": {},
   "cell_type": "markdown",
   "metadata": {},
   "source": [
    "Right now, we are introducing SASS, and finding a way to switch between different CSS themes with a click of a button on github page"
   ]
  },
  {
   "attachments": {},
   "cell_type": "markdown",
   "metadata": {},
   "source": [
    "Here's an example of how you can use Sass to define a set of variables for colors:\n"
   ]
  },
  {
   "attachments": {},
   "cell_type": "markdown",
   "metadata": {},
   "source": [
    "```// Define some color variables $primary-color: #007bff; $secondary-color: #6c757d; // Use the variables in your styles body { background-color: $secondary-color; } h1 { color: $primary-color; }```"
   ]
  },
  {
   "attachments": {},
   "cell_type": "markdown",
   "metadata": {},
   "source": [
    "In the code above, we define two variables: `$primary-color` and `$secondary-color`. We then use these variables to define the background color of the body element and the color of the h1 element.\n",
    "Sass also allows you to nest CSS selectors, which can make your code more readable and easier to maintain:"
   ]
  },
  {
   "attachments": {},
   "cell_type": "markdown",
   "metadata": {},
   "source": [
    "```// Nesting selectors nav { ul { list-style: none; margin: 0; padding: 0; li { display: inline-block; a { color: $primary-color; text-decoration: none; padding: 0.5rem; &:hover { background-color: $secondary-color; } } } } } ```"
   ]
  },
  {
   "attachments": {},
   "cell_type": "markdown",
   "metadata": {},
   "source": [
    "In the code above, we define the styles for a navigation menu. We use nested selectors to apply styles to the ul, li, and a elements. We also use the & operator to define styles for the `a:hover` state.\n",
    "Sass also provides a feature called mixins, which allow you to define a set of styles that can be reused across your codebase:"
   ]
  },
  {
   "attachments": {},
   "cell_type": "markdown",
   "metadata": {},
   "source": [
    "```// Define a mixin for button styles @mixin button-styles { display: inline-block; padding: 0.5rem; font-size: 1rem; font-weight: bold; text-decoration: none; border-radius: 0.25rem; color: white; background-color: $primary-color; &:hover { background-color: $secondary-color; } } // Use the mixin to style a button button { @include button-styles; } ```"
   ]
  },
  {
   "attachments": {},
   "cell_type": "markdown",
   "metadata": {},
   "source": [
    "In the code above, we define a mixin called `button-styles` that contains a set of styles for a button element. We then use the @include directive to apply the mixin to a `button` element.\n",
    "These are just a few examples of the many features that Sass provides. By using Sass, you can write more efficient and maintainable CSS code."
   ]
  }
 ],
 "metadata": {
  "kernelspec": {
   "display_name": "Python 3",
   "language": "python",
   "name": "python3"
  },
  "language_info": {
   "name": "python",
   "version": "3.8.10"
  },
  "orig_nbformat": 4
 },
 "nbformat": 4,
 "nbformat_minor": 2
}
