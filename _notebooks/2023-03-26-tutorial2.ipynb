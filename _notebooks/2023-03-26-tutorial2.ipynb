{
 "cells": [
  {
   "attachments": {},
   "cell_type": "markdown",
   "metadata": {},
   "source": [
<<<<<<< HEAD
    "# Intro To SASS Part 2: Max W, Max T, Evan\n",
=======
    "# Intro To SASS Part 2: Max W, Evan\n",
>>>>>>> 9d0359a89615be858c7121881dfcf03a6d1de9a6
    "\n",
    "- title: Intro To SASS Part 2\n",
    "- layout: base\n",
    "- toc: true\n",
    "- categories: [jupyter]\n",
    "- comments: true\n",
    "- badges: true"
   ]
  },
  {
   "attachments": {},
   "cell_type": "markdown",
   "metadata": {},
   "source": [
    "### Some more ADVANCED SASS Properties..."
   ]
  },
  {
   "attachments": {},
   "cell_type": "markdown",
   "metadata": {},
   "source": [
    "### Why Advanced UI?\n",
    "- Make it easy to navigate and allow users to access information and features easily\n",
    "  - Modern applications today are complex and advanced and uses an array of features and functions\n",
    "  - It is important to create an easy to understand so users can quickly navigate the interface\n",
    "    - To better user satisfaction and retention\n",
    "      - Users more likely to use an application if they are able to navigate it and meet their needs effectively\n",
    "- To make the interface available for a variety of devices (needs to be able to adjust to a variety of screen sizes)"
   ]
  },
  {
   "attachments": {},
   "cell_type": "markdown",
   "metadata": {},
   "source": [
    "# Examples of SASS to create an animation effect\n",
    "<head>\n",
    "    <meta charset=\"UTF-8\">\n",
    "    <link rel=\"stylesheet\" href=\"../assets/css/rotate-img.css\">\n",
    "</head>\n",
    "<div class=\"rotate\">\n",
    "  <img src=\"images/Jaychou-v3.jpg\">\n",
    "</div>\n",
    "\n",
<<<<<<< HEAD
    "\n",
=======
>>>>>>> 9d0359a89615be858c7121881dfcf03a6d1de9a6
    "The keyframes rule defines the spin animation. It starts at 0 degrees and rotates to 360 degrees over the course of the animation\n"
   ]
  },
  {
   "attachments": {},
   "cell_type": "markdown",
   "metadata": {},
   "source": [
    "# Here's an example of how you can use Sass to create an animation effect. \n",
    "\n",
    "```scss\n",
    "// This defines an animation called fade-in that starts with an opacity of 0 and gradually increases to an opacity of 1. Put this code in your SASS file.\n",
    "\n",
    "@keyframes fade-in { \n",
    "  \n",
    "  from {\n",
    "    opacity: 0;\n",
    "  }\n",
    "  to {\n",
    "    opacity: 1;\n",
    "  }\n",
    "}\n",
    "\n",
    "```\n",
    "\n",
    "The @keyframes rule specifies the different states of the animation at different points in time. In this case, it has two states defined using the from and to keywords.\n",
    "\n",
    "The from state specifies the initial state of the animation, in this case with an opacity of 0. The to state specifies the final state of the animation, with an opacity of 1.\n",
    "\n",
    "When this animation is applied to an element in CSS, it will gradually transition from an opacity of 0 to 1 over a specified duration."
   ]
  },
  {
   "attachments": {},
   "cell_type": "markdown",
   "metadata": {},
   "source": [
    "```scss\n",
    "\n",
    "// Next, you can apply the animation to an element in your CSS using the animation property. You can specify the name of the keyframes, the duration of the animation, and other animation-related properties. This applies the fade-in animation to an element with the class .my-element and specifies the animation duration, timing function, delay, iteration count, direction, and fill mode.\n",
    "\n",
    ".my-element {\n",
    "  animation-name: fade-in;\n",
    "  animation-duration: 1s;\n",
    "  animation-timing-function: ease;\n",
    "  animation-delay: 0s;\n",
    "  animation-iteration-count: 1;\n",
    "  animation-direction: normal;\n",
    "  animation-fill-mode: forwards;\n",
    "}\n",
    "```"
   ]
  },
  {
   "attachments": {},
   "cell_type": "markdown",
   "metadata": {},
   "source": [
    "# Here is an example of creating a Grid Layout\n",
    "\n",
    "```scss\n",
    "\n",
    "// This defines a 3x3 grid with three equal-sized columns and three equal-sized rows using the repeat() function with 1fr unit, which represents a fraction of the available space.\n",
    "$grid-template-columns: repeat(3, 1fr);\n",
    "$grid-template-rows: repeat(3, 1fr);\n",
    "\n",
    "// Next, create a class for your grid container element in your Sass file and apply the grid properties using the Sass variables you defined earlier. This creates a grid container with the display: grid property and sets the grid-template-columns, grid-template-rows, and gap properties using the Sass variables you defined earlier. The gap property adds spacing between the grid items.\n",
    ".grid-container {\n",
    "  display: grid;\n",
    "  grid-template-columns: $grid-template-columns;\n",
    "  grid-template-rows: $grid-template-rows;\n",
    "  gap: 1rem; // Add gap between grid items\n",
    "}\n",
    "\n",
    "// Create classes for your grid item elements in your Sass file and specify their position within the grid using the grid-column and grid-row properties. This specifies the position of each grid item within the grid container using the grid-column and grid-row properties. The span value specifies the number of columns or rows the item should span.\n",
    ".grid-item-1 {\n",
    "  grid-column: 1 / span 1; // Place in column 1, span 1 column\n",
    "  grid-row: 1 / span 1; // Place in row 1, span 1 row\n",
    "}\n",
    "\n",
    ".grid-item-2 {\n",
    "  grid-column: 2 / span 1; // Place in column 2, span 1 column\n",
    "  grid-row: 1 / span 3; // Place in row 1, span 3 rows\n",
    "}\n",
    "\n",
    "// ... define other grid item classes as needed\n",
    "\n",
    "```\n"
   ]
  },
  {
   "attachments": {},
   "cell_type": "markdown",
   "metadata": {},
   "source": [
<<<<<<< HEAD
    "In your html file, put this code now. \n",
    "\n",
    "```html\n",
    "<div class=\"grid-container\">\n",
    "  <div class=\"grid-item-1\">Grid Item 1</div>\n",
    "  <div class=\"grid-item-2\">Grid Item 2</div>\n",
    "</div>\n",
    "<style>\n",
    "  .grid-container {\n",
    "\t display: grid;\n",
    "\t grid-template-columns: repeat(3, 1fr);\n",
    "\t grid-template-rows: repeat(3, 1fr);\n",
    "\t gap: 1rem;\n",
    "  }\n",
    " .grid-item-1 {\n",
    "\t grid-column: 1 / span 1;\n",
    "\t grid-row: 1 / span 1;\n",
    "  }\n",
    " .grid-item-2 {\n",
    "\t grid-column: 2 / span 1;\n",
    "\t grid-row: 1 / span 3;\n",
    "  }\n",
    "</style>\n",
    "```\n",
=======
    "```scss\n",
    "// In your html file, put this code now. \n",
    "\n",
>>>>>>> 9d0359a89615be858c7121881dfcf03a6d1de9a6
    "<div class=\"grid-container\">\n",
    "  <div class=\"grid-item-1\">Grid Item 1</div>\n",
    "  <div class=\"grid-item-2\">Grid Item 2</div>\n",
    "</div>\n",
<<<<<<< HEAD
    "<style>\n",
    "  .grid-container {\n",
    "\t display: grid;\n",
    "\t grid-template-columns: repeat(3, 1fr);\n",
    "\t grid-template-rows: repeat(3, 1fr);\n",
    "\t gap: 1rem;\n",
    "  }\n",
    " .grid-item-1 {\n",
    "\t grid-column: 1 / span 1;\n",
    "\t grid-row: 1 / span 1;\n",
    "  }\n",
    " .grid-item-2 {\n",
    "\t grid-column: 2 / span 1;\n",
    "\t grid-row: 1 / span 3;\n",
    "  }\n",
    "</style>\n",
    "\n",
    "\n"
=======
    "\n",
    "```"
>>>>>>> 9d0359a89615be858c7121881dfcf03a6d1de9a6
   ]
  },
  {
   "attachments": {},
   "cell_type": "markdown",
   "metadata": {},
   "source": [
    "# Themes\n",
    "\n",
    "### What to know before changing themes: \n",
    "\n",
    "Stylesheets: To change the visual appearance of an application, you  need to modify the stylesheets that control the presentation of the UI elements. This may involve editing and creating styles to fit your application\n",
    "\n",
    "Configuration files: Applications have configuration files that control the behavior and appearance of the application. You may need to modify these files in order to change the theme."
   ]
  },
  {
   "attachments": {},
   "cell_type": "markdown",
   "metadata": {},
   "source": [
    "### Why compile SASS to CSS\n",
    "\n",
    "HTML is not able to read SASS, but it can read CSS. You are able to compile a SASS file using the VS Code extension called \"Live Sass Compiler\" to automatically convert your SASS file to CSS so that you can use it with HTML. It is better to keep your css and sass files in separate folders as you might encounter problems as we have when trying to access them.\n",
    "\n",
    "Now we want you to install the VS Code extension mentioned above and convert your custom styles"
   ]
  }
 ],
 "metadata": {
  "kernelspec": {
   "display_name": "Python 3",
   "language": "python",
   "name": "python3"
  },
  "language_info": {
   "codemirror_mode": {
    "name": "ipython",
    "version": 3
   },
   "file_extension": ".py",
   "mimetype": "text/x-python",
   "name": "python",
   "nbconvert_exporter": "python",
   "pygments_lexer": "ipython3",
   "version": "3.8.10"
  },
  "orig_nbformat": 4
 },
 "nbformat": 4,
 "nbformat_minor": 2
}
