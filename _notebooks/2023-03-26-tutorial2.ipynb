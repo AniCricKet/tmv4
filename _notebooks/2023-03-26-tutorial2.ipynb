{
 "cells": [
  {
   "attachments": {},
   "cell_type": "markdown",
   "metadata": {},
   "source": [
    "# Tutorial To SASS Part 2: Max W, Aniket, Evan\n",
    "- toc: true\n",
    "- comments: true\n",
    "- badges: true"
   ]
  },
  {
   "cell_type": "code",
   "execution_count": null,
   "metadata": {},
   "outputs": [],
   "source": []
  }
 ],
 "metadata": {
  "language_info": {
   "name": "python"
  },
  "orig_nbformat": 4
 },
 "nbformat": 4,
 "nbformat_minor": 2
}
