{
 "cells": [
  {
   "attachments": {},
   "cell_type": "markdown",
   "metadata": {},
   "source": [
    "# Intro To SASS Part 2: Max W, Max T, Evan\n",
    "\n",
    "- title: Intro To SASS Part 2\n",
    "- toc: true\n",
    "- categories: [jupyter]\n",
    "- comments: true\n",
    "- badges: true"
   ]
  },
  {
   "attachments": {},
   "cell_type": "markdown",
   "metadata": {},
   "source": [
    "### Some more ADVANCED SASS Properties..."
   ]
  },
  {
   "attachments": {},
   "cell_type": "markdown",
   "metadata": {},
   "source": [
    "# Here's an example of how you can use Sass to create an animation effect. \n",
    "\n",
    "```scss\n",
    "// This defines an animation called fade-in that starts with an opacity of 0 and gradually increases to an opacity of 1. Put this code in your SASS file.\n",
    "\n",
    "@keyframes fade-in { \n",
    "  \n",
    "  from {\n",
    "    opacity: 0;\n",
    "  }\n",
    "  to {\n",
    "    opacity: 1;\n",
    "  }\n",
    "}\n",
    "\n",
    "```\n",
    "\n",
    "The @keyframes rule specifies the different states of the animation at different points in time. In this case, it has two states defined using the from and to keywords.\n",
    "\n",
    "The from state specifies the initial state of the animation, in this case with an opacity of 0. The to state specifies the final state of the animation, with an opacity of 1.\n",
    "\n",
    "When this animation is applied to an element in CSS, it will gradually transition from an opacity of 0 to 1 over a specified duration."
   ]
  },
  {
   "attachments": {},
   "cell_type": "markdown",
   "metadata": {},
   "source": [
    "```scss\n",
    "\n",
    "// Next, you can apply the animation to an element in your CSS using the animation property. You can specify the name of the keyframes, the duration of the animation, and other animation-related properties. This applies the fade-in animation to an element with the class .my-element and specifies the animation duration, timing function, delay, iteration count, direction, and fill mode.\n",
    "\n",
    ".my-element {\n",
    "  animation-name: fade-in;\n",
    "  animation-duration: 1s;\n",
    "  animation-timing-function: ease;\n",
    "  animation-delay: 0s;\n",
    "  animation-iteration-count: 1;\n",
    "  animation-direction: normal;\n",
    "  animation-fill-mode: forwards;\n",
    "}\n",
    "```"
   ]
  },
  {
   "attachments": {},
   "cell_type": "markdown",
   "metadata": {},
   "source": [
    "# Here is an example of creating a Grid Layout\n",
    "\n",
    "```scss\n",
    "\n",
    "// This defines a 3x3 grid with three equal-sized columns and three equal-sized rows using the repeat() function with 1fr unit, which represents a fraction of the available space.\n",
    "$grid-template-columns: repeat(3, 1fr);\n",
    "$grid-template-rows: repeat(3, 1fr);\n",
    "\n",
    "// Next, create a class for your grid container element in your Sass file and apply the grid properties using the Sass variables you defined earlier. This creates a grid container with the display: grid property and sets the grid-template-columns, grid-template-rows, and gap properties using the Sass variables you defined earlier. The gap property adds spacing between the grid items.\n",
    ".grid-container {\n",
    "  display: grid;\n",
    "  grid-template-columns: $grid-template-columns;\n",
    "  grid-template-rows: $grid-template-rows;\n",
    "  gap: 1rem; // Add gap between grid items\n",
    "}\n",
    "\n",
    "// Create classes for your grid item elements in your Sass file and specify their position within the grid using the grid-column and grid-row properties. This specifies the position of each grid item within the grid container using the grid-column and grid-row properties. The span value specifies the number of columns or rows the item should span.\n",
    ".grid-item-1 {\n",
    "  grid-column: 1 / span 1; // Place in column 1, span 1 column\n",
    "  grid-row: 1 / span 1; // Place in row 1, span 1 row\n",
    "}\n",
    "\n",
    ".grid-item-2 {\n",
    "  grid-column: 2 / span 1; // Place in column 2, span 1 column\n",
    "  grid-row: 1 / span 3; // Place in row 1, span 3 rows\n",
    "}\n",
    "\n",
    "// ... define other grid item classes as needed\n",
    "\n",
    "```\n"
   ]
  },
  {
   "attachments": {},
   "cell_type": "markdown",
   "metadata": {},
   "source": [
    "```scss\n",
    "// In your html file, put this code now. \n",
    "\n",
    "<div class=\"grid-container\">\n",
    "  <div class=\"grid-item-1\">Grid Item 1</div>\n",
    "  <div class=\"grid-item-2\">Grid Item 2</div>\n",
    "</div>\n",
    "\n",
    "```"
   ]
  },
  {
   "attachments": {},
   "cell_type": "markdown",
   "metadata": {},
   "source": [
    "# Themes\n",
    "\n",
    "### What to know before changing themes: \n",
    "\n",
    "Stylesheets: To change the visual appearance of an application, you  need to modify the stylesheets that control the presentation of the UI elements. This may involve editing and creating styles to fit your application\n",
    "\n",
    "Configuration files: Applications have configuration files that control the behavior and appearance of the application. You may need to modify these files in order to change the theme."
   ]
  },
  {
   "attachments": {},
   "cell_type": "markdown",
   "metadata": {},
   "source": [
    "#### Here is a demonstration of SASS with a button theme-changer..."
   ]
  }
 ],
 "metadata": {
  "kernelspec": {
   "display_name": "Python 3",
   "language": "python",
   "name": "python3"
  },
  "language_info": {
   "codemirror_mode": {
    "name": "ipython",
    "version": 3
   },
   "file_extension": ".py",
   "mimetype": "text/x-python",
   "name": "python",
   "nbconvert_exporter": "python",
   "pygments_lexer": "ipython3",
   "version": "3.8.10"
  },
  "orig_nbformat": 4
 },
 "nbformat": 4,
 "nbformat_minor": 2
}
