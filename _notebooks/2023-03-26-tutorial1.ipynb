{
 "cells": [
  {
   "attachments": {},
   "cell_type": "markdown",
   "metadata": {},
   "source": [
    "# Tutorial To SASS Part 1: Nathan, Aniket, Kalani\n",
    "\n",
    "- title: Tutorial To SASS Part 1\n",
    "- toc: true\n",
    "- categories: [jupyter]\n",
    "- comments: true\n",
    "- badges: true"
   ]
  },
  {
   "attachments": {},
   "cell_type": "markdown",
   "metadata": {},
   "source": [
    "# Basic UI (User Interface) Properities\n",
    "\n",
    "Color: This refers to the hue, saturation, and brightness of the UI elements such as background, text, buttons, etc.\n",
    "\n",
    "\n",
    "Font: This refers to the typeface, size, weight, and style of the text displayed on the UI.\n",
    "\n",
    "\n",
    "Layout: This refers to the arrangement and positioning of UI elements such as buttons, text boxes, images, etc\n",
    "\n",
    "\n",
    "Icons: These are small graphical symbols used to represent actions or ideas in the UI.\n",
    "\n",
    "\n",
    "Interactivity: This refers to how the UI responds to user actions, such as clicking, tapping, dragging, and scrolling.\n",
    "\n",
    "\n",
    "Accessibility: This refers to the ability of the UI to be used by people with disabilities, such as support for screen readers, keyboard navigation, and color contrast."
   ]
  },
  {
   "attachments": {},
   "cell_type": "markdown",
   "metadata": {},
   "source": [
    "# Changing Color of Text/Background Basics\n",
    "Programming languages: To change the color of text, you will need to know how to write code in a programming language that supports text formatting. Some common programming languages that support this include HTML, CSS, JavaScript, and Python.\n",
    "\n",
    "Text editors: You will need a text editor to write and edit the code that will change the color of text. Some popular text editors include Notepad++, Sublime Text, and Visual Studio Code.\n",
    "\n",
    "Color codes: To change the color of text, you will need to know the hexadecimal or RGB color code for the color you want to use. The hexadecimal code is a six-digit code that represents the red, green, and blue values of a color, while the RGB code represents the red, green, and blue values as integers between 0 and 255.\n",
    "\n",
    "CSS syntax: If you are using CSS to change the color of text, you will need to know the syntax for defining styles for HTML elements. This includes understanding the selector, property, and value syntax used in CSS.\n",
    "\n",
    "HTML structure: To change the color of text in HTML, you will need to understand the basic structure of an HTML document and how to add styles to individual elements using inline styles or external style sheets."
   ]
  },
  {
   "attachments": {},
   "cell_type": "markdown",
   "metadata": {},
   "source": [
    "# What is SASS and why is SASS useful for us? \n",
    "- SASS stands for syntactically awesome stylesheets. \n",
    "- SASS is extremely helpful because it lessens the overall complexity of customization that we get with coding directly with CSS\n",
    "- SASS creates a compiler that allows us to write stylesheets with <code>.sass</code> and <code>.scss</code>\n",
    "\n",
    "What are the differences between all these \n",
    "- SCSS includes all CSS features + more\n",
    "- CSS is a style language that is used to style and create web pages. While SCSS is a particular type of file for SASS, it used the Ruby language, which assembles the browser's CSS style sheets.\n",
    "- SCSS contains advanced and modified features.\n",
    "- SCSS is more syntax-oriented than CSS. SCSS uses fewer lines in its code than CSS, which makes coding easier\n",
    "\n",
    "- What are coding benefits:\n",
    "    - SASS has variables that we can use \n",
    "    - In many cases, classes are used as name spaces, which means they are duplicated over and over again. We can avoid this by nesting styles inside the parent\n",
    "    - They already have some built in functions for us to use\n",
    "    - Once your done with the UI, the compiler will take your code and convert it to valid CSS that works\n",
    "\n",
    "\n",
    "Those were the basics ... next is some practice"
   ]
  },
  {
   "attachments": {},
   "cell_type": "markdown",
   "metadata": {},
   "source": [
    "## A few examples of SASS: Can you spot what's good about it? (try to use these in your hacks!)"
   ]
  },
  {
   "attachments": {},
   "cell_type": "markdown",
   "metadata": {},
   "source": [
    "### Example 1: Variables - Nathan\n",
    "\n",
    "```scss\n",
    "$primary-color: #4286F4;\n",
    "$secondary-color: #F4A142;\n",
    "\n",
    ".header {\n",
    "  background-color: $primary-color;\n",
    "  color: $secondary-color;\n",
    "}\n",
    "\n",
    ".button {\n",
    "  background-color: $secondary-color;\n",
    "  color: $primary-color;\n",
    "}\n",
    "```\n",
    "\n",
    "In this example, we define two variables: $primary-color and $secondary-color. We then use these variables in our styles for the .header and .button classes. By using variables, we can easily change the primary and secondary colors throughout our codebase by simply updating the values of the variables. This can be especially useful for maintaining consistency across a website or application."
   ]
  },
  {
   "attachments": {},
   "cell_type": "markdown",
   "metadata": {},
   "source": [
    "### Example 2: Nested Styling - Aniket\n",
    "\n",
    "```scss\n",
    "nav {\n",
    "  ul {\n",
    "    margin: 0;\n",
    "    padding: 0;\n",
    "    list-style: none;\n",
    "\n",
    "    li {\n",
    "      display: inline-block;\n",
    "      margin: 0 10px;\n",
    "\n",
    "      a {\n",
    "        color: #333;\n",
    "        text-decoration: none;\n",
    "        padding: 5px;\n",
    "        border-radius: 5px;\n",
    "\n",
    "        &:hover {\n",
    "          background-color: #333;\n",
    "          color: #fff;\n",
    "        }\n",
    "      }\n",
    "    }\n",
    "  }\n",
    "}\n",
    "```\n",
    "In this example, we have a navigation menu (nav) with an unordered list (ul) of menu items (li). We use nesting to define the styles for each level of the menu. For example, the li elements are styled to have display: inline-block and a margin of 0 10px. We then nest another level to style the anchor links (a) within the li elements. Note the use of the & symbol to target the parent element. In this case, we use &:hover to define a hover state for the anchor links within the li elements."
   ]
  },
  {
   "attachments": {},
   "cell_type": "markdown",
   "metadata": {},
   "source": [
    "### Example 3: Changing Format between devices - Nathan \n",
    "\n",
    "```scss\n",
    ".container {\n",
    "  max-width: 960px;\n",
    "  margin: 0 auto;\n",
    "\n",
    "  .content {\n",
    "    padding: 20px;\n",
    "    background-color: #f9f9f9;\n",
    "  }\n",
    "\n",
    "  @media (min-width: 768px) {\n",
    "    display: flex;\n",
    "    justify-content: space-between;\n",
    "\n",
    "    .sidebar {\n",
    "      width: 30%;\n",
    "      margin-right: 20px;\n",
    "    }\n",
    "\n",
    "    .content {\n",
    "      width: 70%;\n",
    "      padding: 40px;\n",
    "    }\n",
    "  }\n",
    "}\n",
    "\n",
    "```\n",
    "In this example, we have a container element with a maximum width of 960 pixels and centered margin. Within the container, we have a content section with a background color and padding.Using a media query with @media (min-width: 768px) we apply some changes when the viewport width is 768 pixels or wider. In this case, we use the display property to switch to a flex layout, with the content and sidebar elements arranged side by side. We then use specific styles for the .sidebar and .content elements to adjust their width and margins. Using media queries like this can help you create responsive layouts that adjust to different devices and screen sizes, improving the user experience on different devices."
   ]
  }
 ],
 "metadata": {
  "kernelspec": {
   "display_name": "Python 3",
   "language": "python",
   "name": "python3"
  },
  "language_info": {
   "name": "python",
   "version": "3.8.10"
  },
  "orig_nbformat": 4
 },
 "nbformat": 4,
 "nbformat_minor": 2
}
