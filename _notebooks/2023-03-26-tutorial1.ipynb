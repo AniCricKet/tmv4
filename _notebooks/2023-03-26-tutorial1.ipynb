{
 "cells": [
  {
   "attachments": {},
   "cell_type": "markdown",
   "metadata": {},
   "source": [
    "# Intro To SASS Part 1: Nathan, Aniket, Kalani\n",
    "\n",
    "- title: Intro To SASS Part 1\n",
    "- toc: true\n",
    "- categories: [jupyter]\n",
    "- comments: true\n",
    "- badges: true"
   ]
  },
  {
   "attachments": {},
   "cell_type": "markdown",
   "metadata": {},
   "source": [
    "# Basic UI (User Interface) Properities\n",
    "\n",
    "Color: Hue, saturation, and brightness for things like background, text, buttons, and more. \n",
    "\n",
    "\n",
    "Font: Size, weight, style, etc. of the text displayed on the UI. \n",
    "\n",
    "\n",
    "Layout: This refers to the arrangement/positioning of UI elements such as buttons, images, etc\n",
    "\n",
    "\n",
    "Icons: Symbols used to represent things in the UI. \n",
    "\n",
    "\n",
    "Interactivity: Things like clicking, dragging, scrolling, etc. \n",
    "\n",
    "\n",
    "Accessibility: UI that can be used for people with disabilities, for example, color blindness. \n",
    "\n",
    "SASS will help us perform these properties at the max..."
   ]
  },
  {
   "attachments": {},
   "cell_type": "markdown",
   "metadata": {},
   "source": [
    "# What is SASS and why is SASS useful for us? \n",
    "- SASS stands for syntactically awesome stylesheets. \n",
    "- SASS is extremely helpful because it lessens the overall complexity of customization that we get with coding directly with CSS\n",
    "- SASS creates a compiler that allows us to write stylesheets with <code>.sass</code> and <code>.scss</code>\n",
    "\n",
    "What are the differences between all these \n",
    "- SCSS includes all CSS features + more\n",
    "- CSS is a style language that is used to style and create web pages. While SCSS is a particular type of file for SASS, it used the Ruby language, which assembles the browser's CSS style sheets.\n",
    "- SCSS contains advanced and modified features.\n",
    "- SCSS is more syntax-oriented than CSS. SCSS uses fewer lines in its code than CSS, which makes programming easier\n",
    "\n",
    "- What are coding benefits:\n",
    "    - SASS has variables that we can use \n",
    "    - In many cases, classes are used as name spaces, which means they are duplicated over and over again. We can avoid this by nesting styles inside the parent\n",
    "    - They already have some built in functions for us to use\n",
    "    - Once your done with the UI, the compiler will take your code and convert it to valid CSS that works\n",
    "\n",
    "- What are coding drawbacks:\n",
    "    - The browser can't read SASS, only CSS. As a result, you must have the \"Live Sass Complier\" extension installed. This extension will convert SASS to CSS. \n",
    "\n",
    "Those were the basics ... next is some examples "
   ]
  },
  {
   "attachments": {},
   "cell_type": "markdown",
   "metadata": {},
   "source": [
    "## Examples of SASS: Can you spot what's good about it?"
   ]
  },
  {
   "attachments": {},
   "cell_type": "markdown",
   "metadata": {},
   "source": [
    "### Example 1: Variables - Nathan\n",
    "\n",
    "```scss \n",
    "$primary-color: #4286F4; // prefix is the cash symbol with a colon \n",
    "$secondary-color: #F4A142;\n",
    "\n",
    ".header {\n",
    "  background-color: $primary-color;\n",
    "  color: $secondary-color;\n",
    "}\n",
    "\n",
    ".button {\n",
    "  background-color: $secondary-color;\n",
    "  color: $primary-color;\n",
    "}\n",
    "```\n",
    "\n",
    "In this example, we define two variables: $primary-color and $secondary-color. We then use these variables in our styles for the .header and .button classes. By using variables, we can easily change the primary and secondary colors throughout our codebase by simply updating the values of the variables. This can be especially useful for maintaining consistency across a website or application."
   ]
  },
  {
   "attachments": {},
   "cell_type": "markdown",
   "metadata": {},
   "source": [
    "### Example 2: Nested Styling - Aniket\n",
    "\n",
    "```scss\n",
    "nav {\n",
    "  ul {\n",
    "    margin: 0;\n",
    "    padding: 0;\n",
    "    list-style: none;\n",
    "\n",
    "    li {\n",
    "      display: inline-block;\n",
    "      margin: 0 10px;\n",
    "\n",
    "      a {\n",
    "        color: #333;\n",
    "        text-decoration: none;\n",
    "        padding: 5px;\n",
    "        border-radius: 5px;\n",
    "\n",
    "        &:hover {\n",
    "          background-color: #333;\n",
    "          color: #fff;\n",
    "        }\n",
    "      }\n",
    "    }\n",
    "  }\n",
    "}\n",
    "```\n",
    "In this example, we have a navigation menu (nav) with an unordered list (ul) of menu items (li). We use nesting to define the styles for each level of the menu. For example, the li elements are styled to have display: inline-block and a margin of 0 10px. We then nest another level to style the anchor links (a) within the li elements. Note the use of the & symbol to target the parent element. In this case, we use &:hover to define a hover state for the anchor links within the li elements."
   ]
  },
  {
   "attachments": {},
   "cell_type": "markdown",
   "metadata": {},
   "source": [
    "### Example 3: Changing Format between devices - Nathan \n",
    "\n",
    "```scss\n",
    ".container {\n",
    "  max-width: 960px;\n",
    "  margin: 0 auto;\n",
    "\n",
    "  .content {\n",
    "    padding: 20px;\n",
    "    background-color: #f9f9f9;\n",
    "  }\n",
    "\n",
    "  @media (min-width: 768px) {\n",
    "    display: flex;\n",
    "    justify-content: space-between;\n",
    "\n",
    "    .sidebar {\n",
    "      width: 30%;\n",
    "      margin-right: 20px;\n",
    "    }\n",
    "\n",
    "    .content {\n",
    "      width: 70%;\n",
    "      padding: 40px;\n",
    "    }\n",
    "  }\n",
    "}\n",
    "\n",
    "```\n",
    "In this example, we have a container element with a maximum width of 960 pixels and centered margin. Within the container, we have a content section with a background color and padding. Using a media query with @media (min-width: 768px) we apply some changes when the viewport width is 768 pixels or wider. In this case, we use the display property to switch to a flex layout, with the content and sidebar elements arranged side by side. We then use specific styles for the .sidebar and .content elements to adjust their width and margins. Using media queries like this can help you create responsive layouts that adjust to different devices and screen sizes, improving the user experience on different devices."
   ]
  },
  {
   "attachments": {},
   "cell_type": "markdown",
   "metadata": {},
   "source": [
    "### Steps To Use SASS In YOUR Fastpages"
   ]
  },
  {
   "attachments": {},
   "cell_type": "markdown",
   "metadata": {},
   "source": [
    "1. Install the Sass Live compiler on your machine (most of you probably already do)\n",
    "\n",
    "2. Once Sass is installed, you can create Sass files (.scss or .sass) in your Fastpages repository. You can create separate Sass files for different parts of your website, such as layout, typography, colors, etc.\n",
    "\n",
    "3. Write Sass code: Write your CSS styles using Sass syntax in your Sass files. Sass will compile your Sass code into standard CSS code that can be understood by web browsers.\n",
    "\n",
    "4. Compile Sass to CSS: Compile Sass files into CSS using the Sass compiler. The Sass compiler will generate CSS files from your Sass code, which you can then use in your Fastpages project. You can configure the Sass compiler to output the compiled CSS files to a specific directory, such as _sass or assets/css, so that they can be easily included in your Fastpages site.\n",
    "\n",
    "5. Include compiled CSS in your Fastpages: Once you have compiled your Sass files into CSS, you can include the compiled CSS files in your Fastpages project. You can do this by linking to the CSS files in your Jekyll layout or template files, or by including the CSS files directly in your Markdown blog posts using HTML or Markdown syntax."
   ]
  },
  {
   "attachments": {},
   "cell_type": "markdown",
   "metadata": {},
   "source": [
    "## Hacks Part 1\n",
    "\n",
    "1. Add your own element to your own repository to make it unique (0.9)"
   ]
  }
 ],
 "metadata": {
  "kernelspec": {
   "display_name": "Python 3",
   "language": "python",
   "name": "python3"
  },
  "language_info": {
   "name": "python",
   "version": "3.8.10"
  },
  "orig_nbformat": 4
 },
 "nbformat": 4,
 "nbformat_minor": 2
}
